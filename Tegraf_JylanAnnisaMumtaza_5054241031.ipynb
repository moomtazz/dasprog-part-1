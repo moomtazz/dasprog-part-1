{
  "nbformat": 4,
  "nbformat_minor": 0,
  "metadata": {
    "colab": {
      "provenance": [],
      "include_colab_link": true
    },
    "kernelspec": {
      "name": "python3",
      "display_name": "Python 3"
    },
    "language_info": {
      "name": "python"
    }
  },
  "cells": [
    {
      "cell_type": "markdown",
      "metadata": {
        "id": "view-in-github",
        "colab_type": "text"
      },
      "source": [
        "<a href=\"https://colab.research.google.com/github/moomtazz/dasprog-part-1/blob/main/Tegraf_JylanAnnisaMumtaza_5054241031.ipynb\" target=\"_parent\"><img src=\"https://colab.research.google.com/assets/colab-badge.svg\" alt=\"Open In Colab\"/></a>"
      ]
    },
    {
      "cell_type": "markdown",
      "source": [
        "# **Teori Graf : Penugasan Algoritma Graf Shortest Path dan Minimum Spanning Tree**\n",
        "\n",
        "### >> **[SOAL NOMOR 1]** Buatlah sebuah matrix ketetanggan graf berbobot dengan 15 node berukuran 15 x 15 (generate menggunakan nilai random), kemudian sajikan pembahasan anda secara mendalam terkait implementasi algoritma shortest path menggunakan :\n",
        "\n",
        "\n",
        "\n",
        "\n",
        "\n",
        "\n"
      ],
      "metadata": {
        "id": "TF6g0h6JyzaT"
      }
    },
    {
      "cell_type": "markdown",
      "source": [
        "### **A.)** **DIJKSTRA'S ALGORITHM**"
      ],
      "metadata": {
        "id": "u8Gv9RgkyaKd"
      }
    },
    {
      "cell_type": "code",
      "source": [],
      "metadata": {
        "id": "5Tfsr8GrlIWm"
      },
      "execution_count": null,
      "outputs": []
    },
    {
      "cell_type": "markdown",
      "source": [
        "### **B.)** **A* ALGORITHM (minimal menggunakan 2 pendekatan heuristik)**\n",
        "\n",
        "\n"
      ],
      "metadata": {
        "id": "v44YQ0PN173v"
      }
    },
    {
      "cell_type": "code",
      "source": [],
      "metadata": {
        "id": "kMPgz3MK2hIK"
      },
      "execution_count": null,
      "outputs": []
    },
    {
      "cell_type": "markdown",
      "source": [
        "### **C.)** **BELLMAN FORD & FLOYD WARSHAL ALGORITHM**"
      ],
      "metadata": {
        "id": "LPSUSNgn2iRg"
      }
    },
    {
      "cell_type": "code",
      "source": [],
      "metadata": {
        "id": "Q35jzL-R4wK6"
      },
      "execution_count": null,
      "outputs": []
    },
    {
      "cell_type": "markdown",
      "source": [
        "### **D.)** **JOHNSHON ALGORITHM**"
      ],
      "metadata": {
        "id": "BF7tW-p34xA3"
      }
    },
    {
      "cell_type": "code",
      "source": [],
      "metadata": {
        "id": "EaF35Q1i4-qp"
      },
      "execution_count": null,
      "outputs": []
    },
    {
      "cell_type": "markdown",
      "source": [
        "### Lakukan analisis kelebihan dan kelemahan masing - masing algorithm, dan buatkan tabel atau infografis lainnya berupa hasil evaluasi performa masing - masing algoritma\n",
        "\n",
        "> Masukin gambar tabelnya ke sini\n",
        "\n"
      ],
      "metadata": {
        "id": "BSpx-cuq7Ipj"
      }
    },
    {
      "cell_type": "markdown",
      "source": [
        "\n",
        "\n",
        "### >> **[SOAL NOMOR 2]** Buatlah sebuah daftar ketetanggan graf berbobot dengan 10 node berukuran, (generate menggunakan nilai random), kemudian sajikan pembahasan anda secara mendalam terkait implementasi algoritma minimum spanning tree menggunakan :\n",
        "\n"
      ],
      "metadata": {
        "id": "l9EeE_wR5kDQ"
      }
    },
    {
      "cell_type": "markdown",
      "source": [
        "### **A.)** **KRUSKAL'S ALGORITHM**\n",
        "\n"
      ],
      "metadata": {
        "id": "Zn5oPgrP6Vl4"
      }
    },
    {
      "cell_type": "code",
      "source": [],
      "metadata": {
        "id": "fIuCBCdj6x8B"
      },
      "execution_count": null,
      "outputs": []
    },
    {
      "cell_type": "markdown",
      "source": [
        "### **B.)** **PRIM'S ALGORITHM**\n"
      ],
      "metadata": {
        "id": "0Akk86iM6zHJ"
      }
    },
    {
      "cell_type": "code",
      "source": [],
      "metadata": {
        "id": "AUkg83Cr668m"
      },
      "execution_count": null,
      "outputs": []
    },
    {
      "cell_type": "markdown",
      "source": [
        "### Lakukan analisis kelebihan dan kelemahan masing - masing algorithm, dan buatkan tabel atau infografis lainnya berupa hasil evaluasi performa masing - masing algoritma\n",
        "\n",
        "> Masukin gambar tabelnya ke sini\n"
      ],
      "metadata": {
        "id": "d2ydD5NY799a"
      }
    }
  ]
}